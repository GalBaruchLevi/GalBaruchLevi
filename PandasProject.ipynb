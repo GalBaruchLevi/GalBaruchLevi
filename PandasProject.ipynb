{
 "cells": [
  {
   "cell_type": "markdown",
   "metadata": {},
   "source": [
    "# The Best Movie"
   ]
  },
  {
   "cell_type": "code",
   "execution_count": null,
   "metadata": {},
   "outputs": [],
   "source": [
    "import tkinter\n",
    "from tkinter import *\n",
    "from tkinter import messagebox\n",
    "import numpy# as np\n",
    "import scipy as sp\n",
    "import pandas as pd\n",
    "#gui = show()\n",
    "#from pandasgui import show\n",
    "import seaborn as sns\n",
    "import seaborn\n",
    "import math\n",
    "import random \n",
    "import matplotlib.pyplot as plt\n",
    "from sklearn.linear_model import LinearRegression\n"
   ]
  },
  {
   "cell_type": "code",
   "execution_count": null,
   "metadata": {},
   "outputs": [],
   "source": [
    "df=pd.read_csv(\"movie_metadata.csv\")\n"
   ]
  },
  {
   "cell_type": "code",
   "execution_count": null,
   "metadata": {},
   "outputs": [],
   "source": [
    "\n"
   ]
  },
  {
   "cell_type": "code",
   "execution_count": null,
   "metadata": {},
   "outputs": [],
   "source": [
    "df = df.dropna(axis=0)"
   ]
  },
  {
   "cell_type": "code",
   "execution_count": null,
   "metadata": {},
   "outputs": [],
   "source": [
    "df.drop(['color', 'num_critic_for_reviews','plot_keywords','movie_imdb_link','content_rating','aspect_ratio'], axis=1 , inplace=True)"
   ]
  },
  {
   "cell_type": "code",
   "execution_count": null,
   "metadata": {},
   "outputs": [],
   "source": [
    "window= Tk()\n",
    "labelName = Label(window, text=\"Full Name\", fg=\"purple\", font=(\"calibri bold\",20))\n",
    "labelName.grid(column=0,row=0)\n",
    "txtName= Entry(window, width=20)\n",
    "txtName.grid(column=1,row=0)\n",
    "name=txtName.get()\n",
    "\n",
    "labelCountry = Label(window, text=\"Country\", fg=\"purple\" ,font=(\"calibri bold\",20))\n",
    "labelCountry.grid(column=0,row=1)\n",
    "txtCountry = Entry(window, width=20)\n",
    "txtCountry.grid(column=1,row=1)\n",
    "country= txtCountry.get()\n",
    "v= StringVar()\n",
    "v.set(\"Female\")\n",
    "rad1 = Radiobutton(window, text= \"Male\",variable=v ,value=\"Male\")\n",
    "rad1.grid(column=0,row=2)\n",
    "rad2= Radiobutton(window, text= \"Female\",variable=v,value=\"Female\" )\n",
    "rad2.grid(column=1,row=2)\n",
    "\n",
    "def btn_clicked():\n",
    "    messagebox.showinfo(\"Dear Producer\",\"Hello \" +txtName.get() + \"| Gender: \" + v.get() + \" \\n Country: \"+ txtCountry.get() )\n",
    "\n",
    "bt = Button(window, text=\"Submit\", bg=\"pink\", fg=\"white\",font=(\"calibri bold\",15), command= btn_clicked)  \n",
    "bt.grid(column=1,row=3)\n",
    "window.geometry('300x150')\n",
    "window.mainloop()\n",
    " "
   ]
  },
  {
   "cell_type": "code",
   "execution_count": null,
   "metadata": {},
   "outputs": [],
   "source": [
    "#הקטגוריה הכי רווחית ברוטו\n",
    "maxGross = df[['genres','gross']].max()\n",
    "print(\"The max gross is:\")\n",
    "print(maxGross['gross'])\n",
    "print(\"The genres is:\")\n",
    "print(maxGross['genres'])\n"
   ]
  },
  {
   "cell_type": "code",
   "execution_count": null,
   "metadata": {
    "scrolled": true
   },
   "outputs": [],
   "source": [
    "#כיצד משפיע אורך הסרט על הדירוג שקיבל \n",
    "#x= df['duration']\n",
    "#y= df['imdb_score']\n",
    "#regressor = LinearRegression()\n",
    "#regressor\n",
    "#regressor.fit(x,y)\n",
    "#plt.plot(df[(df.facenumber_in_poster < 10)],df[\"imdb_score\"], \"o\")\n",
    "#plt.plot(df[\"facenumber_in_poster\"<10],df[\"imdb_score\"], \"o\")\n",
    "\n",
    "#filtered_data= df[(df.facenumber_in_poster>0)& (df.facenumber_in_poster<10)]\n",
    "#plt.plot(df[\"facenumber_in_poster\"],df[\"imdb_score\"], \"o\")\n",
    "#filtered_data.corr()[\"facenumber_in_poster\"].sort_values()\n",
    "#plt.scatter(df[\"facenumber_in_poster\"]<10, df[\"imdb_score\"], color='red')"
   ]
  },
  {
   "cell_type": "code",
   "execution_count": null,
   "metadata": {},
   "outputs": [],
   "source": [
    "#קו רגרסיה המשקף כיצד משפיע משך הזמן של סרט על הדירוג שלו ב imdb \n",
    "sns.regplot(x = 'duration', y= 'imdb_score', data= df)\n",
    "\n",
    "\n"
   ]
  },
  {
   "cell_type": "code",
   "execution_count": null,
   "metadata": {},
   "outputs": [],
   "source": [
    "#דירוג 5 הסרטים הטובים ביותר על פי מדד לייקים \n",
    "\n",
    "bestMovies = df.sort_values(by = 'movie_facebook_likes', ascending= False)\n",
    "bestMovies.head()\n",
    "\n"
   ]
  },
  {
   "cell_type": "code",
   "execution_count": null,
   "metadata": {},
   "outputs": [],
   "source": [
    "# הוספת עמודה חדשה טוטאל שמראה עבור שלוש הסרטים המדורגים גבוה ביותר את סך הלייקים שקיבלו\n",
    "bestScore = df.sort_values(by = 'imdb_score', ascending = False)\n",
    "bestScore[\"total\"] = bestScore[\"actor_2_facebook_likes\"] + bestScore[\"movie_facebook_likes\"] +  bestScore[\"actor_1_facebook_likes\"] +  bestScore[\"actor_3_facebook_likes\"]\n",
    "bestScore.head(3)\n"
   ]
  },
  {
   "cell_type": "code",
   "execution_count": null,
   "metadata": {
    "scrolled": true
   },
   "outputs": [],
   "source": [
    "#המדינה שהפיקה הכי הרבה סרטים\n",
    "print (\"The country with the most movies is:\" )\n",
    "country= df.groupby([\"country\"])[[\"movie_title\"]].count().sort_values(by = \"movie_title\", ascending= False)\n",
    "country.head(1)\n"
   ]
  },
  {
   "cell_type": "code",
   "execution_count": null,
   "metadata": {},
   "outputs": [],
   "source": [
    "#תקציב ממוצע לעשרת הסרטים הכי רווחיים\n",
    "avebudget = df[[\"movie_title\",\"gross\",\"budget\"]].sort_values(by = \"gross\", ascending= False)\n",
    "ave = avebudget.head(10)[\"budget\"].mean()\n",
    "print(\"The average budget of the 10 most profit movies are: \" )\n",
    "ave"
   ]
  },
  {
   "cell_type": "code",
   "execution_count": null,
   "metadata": {},
   "outputs": [],
   "source": [
    "#יוצאים מנקודת הנחה שאין את אותו הסרט פעמיים\n",
    "#מספר סרטים לפי שנים בעשור האחרון \n",
    "ThelastDecade=df[df[\"title_year\"]>=2010]  \n",
    "res = seaborn.countplot(x=ThelastDecade[\"title_year\"])\n",
    "plt.show()\n"
   ]
  },
  {
   "cell_type": "code",
   "execution_count": null,
   "metadata": {},
   "outputs": [],
   "source": [
    "#טבלה המציגה את שם הסרט, שנת הוצאה לאור, מספר ליקים בפייסבוק לסרט ולקאסט (inner join/ merge)\n",
    "df1=df[['movie_title','title_year','movie_facebook_likes']].head(10)\n",
    "\n",
    "df2=df[['movie_title','title_year','cast_total_facebook_likes']].head(10)\n",
    "\n",
    "df_res = df1.merge(df2)\n",
    "df_res\n"
   ]
  },
  {
   "cell_type": "code",
   "execution_count": null,
   "metadata": {},
   "outputs": [],
   "source": [
    "# יצירת טבלה המציגה בכל שנה את ממוצע הלייקים לסרט ולקאסט בפייסבוק\n",
    "movLikes=df[['title_year',\"movie_facebook_likes\"]].groupby([\"title_year\"]).mean().round(3)\n",
    "castLikes=df[['title_year',\"cast_total_facebook_likes\"]].groupby([\"title_year\"]).mean().round(3)\n",
    "dfMerge= pd.merge(movLikes, castLikes, on ='title_year')\n",
    "meanMovieLike= df[\"movie_facebook_likes\"].mean()\n",
    "print(meanMovieLike)\n",
    "dfMerge[\"bigger_Then_Mean_Movies_Likes\"]= np.where(dfMerge[\"movie_facebook_likes\"]>=meanMovieLike,True, False)\n",
    "meanCastLike= df[\"cast_total_facebook_likes\"].mean()\n",
    "dfMerge[\"bigger_Then_Mean_Cast_Likes\"]= np.where(dfMerge[\"cast_total_facebook_likes\"]>=meanCastLike,True, False)\n",
    "dfMerge\n",
    "\n",
    "\n"
   ]
  },
  {
   "cell_type": "code",
   "execution_count": null,
   "metadata": {},
   "outputs": [],
   "source": [
    "answer= True\n",
    "while(answer):\n",
    "    def op1():\n",
    "        #הקטגוריה הכי רווחית ברוטו\n",
    "        maxGross = df[['genres','gross']].max()\n",
    "        print(\"The max gross is:\")\n",
    "        print(maxGross['gross'])\n",
    "        print(\"The genres is:\")\n",
    "        print(maxGross['genres'])\n",
    "    \n",
    "    def op2():\n",
    "       #דירוג 5 הסרטים הטובים ביותר על פי מדד לייקים \n",
    "        #df.to_numpy()\n",
    "        bestMovies = df.sort_values(by = 'movie_facebook_likes', ascending= False)\n",
    "        return(bestMovies.head())\n",
    "\n",
    "        \n",
    "    def op3():\n",
    "        #טבלה המציגה את שם הסרט, שנת הוצאה לאור, מספר ליקים בפייסבוק לסרט ולקאסט (inner join/ merge)\n",
    "        df1=df[['movie_title','title_year','movie_facebook_likes']].head(10)\n",
    "\n",
    "        df2=df[['movie_title','title_year','cast_total_facebook_likes']].head(10)\n",
    "\n",
    "        df_res = df1.merge(df2)\n",
    "        df_res\n",
    "        \n",
    "    def op4():\n",
    "        # יצירת טבלה המציגה בכל שנה את ממוצע הלייקים לסרט ולקאסט בפייסבוק\n",
    "        movLikes=df[['title_year',\"movie_facebook_likes\"]].groupby([\"title_year\"]).mean().round(3)\n",
    "        castLikes=df[['title_year',\"cast_total_facebook_likes\"]].groupby([\"title_year\"]).mean().round(3)\n",
    "        dfMerge= pd.merge(movLikes, castLikes, on ='title_year')\n",
    "        meanMovieLike= df[\"movie_facebook_likes\"].mean()\n",
    "        print(meanMovieLike)\n",
    "        dfMerge[\"bigger_Then_Mean_Movies_Likes\"]= np.where(dfMerge[\"movie_facebook_likes\"]>=meanMovieLike,True, False)\n",
    "        meanCastLike= df[\"cast_total_facebook_likes\"].mean()\n",
    "        dfMerge[\"bigger_Then_Mean_Cast_Likes\"]= np.where(dfMerge[\"cast_total_facebook_likes\"]>=meanCastLike,True, False)\n",
    "        dfMerge\n",
    "        \n",
    "    def op5():\n",
    "        #יוצאים מנקודת הנחה שאין את אותו הסרט פעמיים\n",
    "        #מספר סרטים לפי שנים בעשור האחרון \n",
    "        ThelastDecade=df[df[\"title_year\"]>=2010]  \n",
    "        res = seaborn.countplot(x=ThelastDecade[\"title_year\"])\n",
    "        plt.show()\n",
    "        \n",
    "    def op6():\n",
    "        #המדינה שהפיקה הכי הרבה סרטים\n",
    "        print (\"The country with the most movies is:\" )\n",
    "        country= df.groupby([\"country\"])[[\"movie_title\"]].count().sort_values(by = \"movie_title\", ascending= False)\n",
    "        #bestCountry= country.sort_values(by = \"movie_title\", ascending= False)\n",
    "        country.head(1)\n",
    "        \n",
    "    def op7():\n",
    "        #תקציב ממוצע לעשרת הסרטים הכי רווחיים\n",
    "        avebudget = df[[\"movie_title\",\"gross\",\"budget\"]].sort_values(by = \"gross\", ascending= False)\n",
    "        ave= avebudget.head(10)[\"budget\"].mean()\n",
    "        print(\"The average budget of the 10 most profit movies are: \" )\n",
    "        ave\n",
    "        \n",
    "    def op8():\n",
    "        print(\"bye bye\")\n",
    "        answer= False\n",
    "        \n",
    "    answer=    False\n",
    "        \n",
    "     \n",
    "   "
   ]
  },
  {
   "cell_type": "code",
   "execution_count": null,
   "metadata": {},
   "outputs": [],
   "source": [
    "window = Tk()\n",
    "\n",
    "window.title(\"MoviesSystem\")\n",
    "\n",
    "   \n",
    "\n",
    "label= Label(window,text=\"menu\", font= (\"david bold\",40))\n",
    "\n",
    "label.pack()\n",
    "\n",
    "   \n",
    "\n",
    "bt= Button(window,text=\"See the max gross genres\",height=1,width=40, bg= \"yellow\", fg=\"green\",command= op1)\n",
    "\n",
    "bt.pack()\n",
    "\n",
    "   \n",
    "\n",
    "bt1= Button(window,text=\"See top 5 liked movies\", bg= \"red\", height=1,width=40, fg=\"black\",command= op2)\n",
    "\n",
    "bt1.pack()\n",
    "\n",
    "   \n",
    "\n",
    "bt2= Button(window,text=\"See movies info\", bg= \"blue\", height=1,width=40, fg=\"white\",command= op3)\n",
    "\n",
    "bt2.pack()\n",
    "\n",
    "   \n",
    "\n",
    "bt3= Button(window,text=\"Likes average for movies & cast order by year\", bg= \"orange\", height=1,width=40, fg=\"pink\",command= op4)\n",
    "\n",
    "bt3.pack()\n",
    "\n",
    "   \n",
    "\n",
    "bt4= Button(window,text=\"Show diagram that includes the number of movies per year in the last decade\", bg= \"white\", height=1,width=40, fg=\"black\",command= op5)\n",
    "\n",
    "bt4.pack()\n",
    "\n",
    "   \n",
    "\n",
    "bt5= Button(window,text=\"The country that produced the most movies\", bg= \"green\", height=1,width=40, fg=\"blue\",command= op6)\n",
    "\n",
    "bt5.pack()\n",
    "\n",
    "   \n",
    "\n",
    "    \n",
    "\n",
    "bt6= Button(window,text=\"Average budget for the 10 most profit movies\", bg= \"pink\", height=1,width=40, fg=\"green\",command= op7)\n",
    "\n",
    "bt6.pack()\n",
    "\n",
    "    \n",
    "\n",
    "bt7= Button(window,text=\"Exit\", bg= \"purple\", height=1,width=40, fg=\"white\",command= op8)\n",
    "\n",
    "bt7.pack()\n",
    "\n",
    "window.geometry('300x400')\n",
    "window.mainloop()"
   ]
  },
  {
   "cell_type": "code",
   "execution_count": null,
   "metadata": {},
   "outputs": [],
   "source": []
  },
  {
   "cell_type": "code",
   "execution_count": null,
   "metadata": {},
   "outputs": [],
   "source": []
  }
 ],
 "metadata": {
  "kernelspec": {
   "display_name": "Python 3",
   "language": "python",
   "name": "python3"
  },
  "language_info": {
   "codemirror_mode": {
    "name": "ipython",
    "version": 3
   },
   "file_extension": ".py",
   "mimetype": "text/x-python",
   "name": "python",
   "nbconvert_exporter": "python",
   "pygments_lexer": "ipython3",
   "version": "3.8.5"
  }
 },
 "nbformat": 4,
 "nbformat_minor": 4
}
